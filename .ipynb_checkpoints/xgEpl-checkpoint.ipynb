{
 "cells": [
  {
   "cell_type": "markdown",
   "metadata": {},
   "source": [
    "## Python Project --- How well do expected goals (xg) match up with the outcome of games and seasons in the English Premier League?"
   ]
  },
  {
   "cell_type": "markdown",
   "metadata": {},
   "source": [
    "Libraries used in this project."
   ]
  },
  {
   "cell_type": "code",
   "execution_count": 1,
   "metadata": {},
   "outputs": [],
   "source": [
    "import sqlite3\n",
    "import pandas as pd\n",
    "import numpy as np\n",
    "import matplotlib.pyplot as plt\n",
    "import seaborn as sns"
   ]
  },
  {
   "cell_type": "markdown",
   "metadata": {},
   "source": [
    "Code used to read csv file and create data frame for the project.\n",
    "Excludes data in the csv file that will not be used in the project. Gives example of how data is currently structured."
   ]
  },
  {
   "cell_type": "code",
   "execution_count": 2,
   "metadata": {},
   "outputs": [
    {
     "data": {
      "text/html": [
       "<div>\n",
       "<style scoped>\n",
       "    .dataframe tbody tr th:only-of-type {\n",
       "        vertical-align: middle;\n",
       "    }\n",
       "\n",
       "    .dataframe tbody tr th {\n",
       "        vertical-align: top;\n",
       "    }\n",
       "\n",
       "    .dataframe thead th {\n",
       "        text-align: right;\n",
       "    }\n",
       "</style>\n",
       "<table border=\"1\" class=\"dataframe\">\n",
       "  <thead>\n",
       "    <tr style=\"text-align: right;\">\n",
       "      <th></th>\n",
       "      <th>date</th>\n",
       "      <th>team1</th>\n",
       "      <th>team2</th>\n",
       "      <th>score1</th>\n",
       "      <th>score2</th>\n",
       "      <th>xg1</th>\n",
       "      <th>xg2</th>\n",
       "      <th>league</th>\n",
       "    </tr>\n",
       "  </thead>\n",
       "  <tbody>\n",
       "    <tr>\n",
       "      <th>2</th>\n",
       "      <td>2016-08-13</td>\n",
       "      <td>Hull City</td>\n",
       "      <td>Leicester City</td>\n",
       "      <td>2.0</td>\n",
       "      <td>1.0</td>\n",
       "      <td>0.85</td>\n",
       "      <td>2.77</td>\n",
       "      <td>Barclays Premier League</td>\n",
       "    </tr>\n",
       "    <tr>\n",
       "      <th>3</th>\n",
       "      <td>2016-08-13</td>\n",
       "      <td>Everton</td>\n",
       "      <td>Tottenham Hotspur</td>\n",
       "      <td>1.0</td>\n",
       "      <td>1.0</td>\n",
       "      <td>0.73</td>\n",
       "      <td>1.11</td>\n",
       "      <td>Barclays Premier League</td>\n",
       "    </tr>\n",
       "    <tr>\n",
       "      <th>4</th>\n",
       "      <td>2016-08-13</td>\n",
       "      <td>Burnley</td>\n",
       "      <td>Swansea City</td>\n",
       "      <td>0.0</td>\n",
       "      <td>1.0</td>\n",
       "      <td>1.24</td>\n",
       "      <td>1.84</td>\n",
       "      <td>Barclays Premier League</td>\n",
       "    </tr>\n",
       "    <tr>\n",
       "      <th>5</th>\n",
       "      <td>2016-08-13</td>\n",
       "      <td>Crystal Palace</td>\n",
       "      <td>West Bromwich Albion</td>\n",
       "      <td>0.0</td>\n",
       "      <td>1.0</td>\n",
       "      <td>1.11</td>\n",
       "      <td>0.68</td>\n",
       "      <td>Barclays Premier League</td>\n",
       "    </tr>\n",
       "    <tr>\n",
       "      <th>6</th>\n",
       "      <td>2016-08-13</td>\n",
       "      <td>Middlesbrough</td>\n",
       "      <td>Stoke City</td>\n",
       "      <td>1.0</td>\n",
       "      <td>1.0</td>\n",
       "      <td>1.40</td>\n",
       "      <td>0.55</td>\n",
       "      <td>Barclays Premier League</td>\n",
       "    </tr>\n",
       "  </tbody>\n",
       "</table>\n",
       "</div>"
      ],
      "text/plain": [
       "         date           team1                 team2  score1  score2   xg1  \\\n",
       "2  2016-08-13       Hull City        Leicester City     2.0     1.0  0.85   \n",
       "3  2016-08-13         Everton     Tottenham Hotspur     1.0     1.0  0.73   \n",
       "4  2016-08-13         Burnley          Swansea City     0.0     1.0  1.24   \n",
       "5  2016-08-13  Crystal Palace  West Bromwich Albion     0.0     1.0  1.11   \n",
       "6  2016-08-13   Middlesbrough            Stoke City     1.0     1.0  1.40   \n",
       "\n",
       "    xg2                   league  \n",
       "2  2.77  Barclays Premier League  \n",
       "3  1.11  Barclays Premier League  \n",
       "4  1.84  Barclays Premier League  \n",
       "5  0.68  Barclays Premier League  \n",
       "6  0.55  Barclays Premier League  "
      ]
     },
     "execution_count": 2,
     "metadata": {},
     "output_type": "execute_result"
    }
   ],
   "source": [
    "df = pd.read_csv('spi_matches.csv')\n",
    "df = df[df.league == \"Barclays Premier League\"]\n",
    "df.head() [['date', 'team1', 'team2', 'score1', 'score2', 'xg1', 'xg2', 'league']]"
   ]
  },
  {
   "cell_type": "markdown",
   "metadata": {},
   "source": [
    "Creating the database for the EPL (English Premier League) table"
   ]
  },
  {
   "cell_type": "code",
   "execution_count": 3,
   "metadata": {},
   "outputs": [],
   "source": [
    "df.to_sql(\"epl_table\", sqlite3.connect(\"epl.db\"), if_exists = \"replace\")"
   ]
  },
  {
   "cell_type": "markdown",
   "metadata": {},
   "source": [
    "Connecting to the database and querying back the information with SQL"
   ]
  },
  {
   "cell_type": "code",
   "execution_count": 5,
   "metadata": {},
   "outputs": [
    {
     "data": {
      "text/html": [
       "<div>\n",
       "<style scoped>\n",
       "    .dataframe tbody tr th:only-of-type {\n",
       "        vertical-align: middle;\n",
       "    }\n",
       "\n",
       "    .dataframe tbody tr th {\n",
       "        vertical-align: top;\n",
       "    }\n",
       "\n",
       "    .dataframe thead th {\n",
       "        text-align: right;\n",
       "    }\n",
       "</style>\n",
       "<table border=\"1\" class=\"dataframe\">\n",
       "  <thead>\n",
       "    <tr style=\"text-align: right;\">\n",
       "      <th></th>\n",
       "      <th>date</th>\n",
       "      <th>team1</th>\n",
       "      <th>team2</th>\n",
       "      <th>score1</th>\n",
       "      <th>score2</th>\n",
       "      <th>xg1</th>\n",
       "      <th>xg2</th>\n",
       "    </tr>\n",
       "  </thead>\n",
       "  <tbody>\n",
       "    <tr>\n",
       "      <th>0</th>\n",
       "      <td>2016-08-13</td>\n",
       "      <td>Hull City</td>\n",
       "      <td>Leicester City</td>\n",
       "      <td>2.0</td>\n",
       "      <td>1.0</td>\n",
       "      <td>0.85</td>\n",
       "      <td>2.77</td>\n",
       "    </tr>\n",
       "    <tr>\n",
       "      <th>1</th>\n",
       "      <td>2016-08-13</td>\n",
       "      <td>Everton</td>\n",
       "      <td>Tottenham Hotspur</td>\n",
       "      <td>1.0</td>\n",
       "      <td>1.0</td>\n",
       "      <td>0.73</td>\n",
       "      <td>1.11</td>\n",
       "    </tr>\n",
       "    <tr>\n",
       "      <th>2</th>\n",
       "      <td>2016-08-13</td>\n",
       "      <td>Burnley</td>\n",
       "      <td>Swansea City</td>\n",
       "      <td>0.0</td>\n",
       "      <td>1.0</td>\n",
       "      <td>1.24</td>\n",
       "      <td>1.84</td>\n",
       "    </tr>\n",
       "    <tr>\n",
       "      <th>3</th>\n",
       "      <td>2016-08-13</td>\n",
       "      <td>Crystal Palace</td>\n",
       "      <td>West Bromwich Albion</td>\n",
       "      <td>0.0</td>\n",
       "      <td>1.0</td>\n",
       "      <td>1.11</td>\n",
       "      <td>0.68</td>\n",
       "    </tr>\n",
       "    <tr>\n",
       "      <th>4</th>\n",
       "      <td>2016-08-13</td>\n",
       "      <td>Middlesbrough</td>\n",
       "      <td>Stoke City</td>\n",
       "      <td>1.0</td>\n",
       "      <td>1.0</td>\n",
       "      <td>1.40</td>\n",
       "      <td>0.55</td>\n",
       "    </tr>\n",
       "  </tbody>\n",
       "</table>\n",
       "</div>"
      ],
      "text/plain": [
       "         date           team1                 team2  score1  score2   xg1  \\\n",
       "0  2016-08-13       Hull City        Leicester City     2.0     1.0  0.85   \n",
       "1  2016-08-13         Everton     Tottenham Hotspur     1.0     1.0  0.73   \n",
       "2  2016-08-13         Burnley          Swansea City     0.0     1.0  1.24   \n",
       "3  2016-08-13  Crystal Palace  West Bromwich Albion     0.0     1.0  1.11   \n",
       "4  2016-08-13   Middlesbrough            Stoke City     1.0     1.0  1.40   \n",
       "\n",
       "    xg2  \n",
       "0  2.77  \n",
       "1  1.11  \n",
       "2  1.84  \n",
       "3  0.68  \n",
       "4  0.55  "
      ]
     },
     "execution_count": 5,
     "metadata": {},
     "output_type": "execute_result"
    }
   ],
   "source": [
    "con = sqlite3.connect(\"epl.db\")\n",
    "df = pd.read_sql_query(\"SELECT date, team1, team2, score1, score2, xg1, xg2 FROM epl_table\", con)\n",
    "df.head()"
   ]
  },
  {
   "cell_type": "markdown",
   "metadata": {},
   "source": [
    "#### Examining how xg does at matching the outcome of each game.\n",
    "\n",
    "First a query to examine the amount of wins, draws, and ties in our data set. A win is when score1 > score2 (a home team win), a loss is when score1 < score2 (an away team win) and a tie when score1 and score2 are equal."
   ]
  },
  {
   "cell_type": "code",
   "execution_count": 6,
   "metadata": {},
   "outputs": [
    {
     "data": {
      "text/plain": [
       "<BarContainer object of 3 artists>"
      ]
     },
     "execution_count": 6,
     "metadata": {},
     "output_type": "execute_result"
    },
    {
     "data": {
      "image/png": "[encoded data removed]",
      "text/plain": [
       "<Figure size 432x288 with 1 Axes>"
      ]
     },
     "metadata": {
      "needs_background": "light"
     },
     "output_type": "display_data"
    }
   ],
   "source": [
    "df = pd.read_sql_query(\"\"\"\n",
    "SELECT\n",
    "    count(CASE WHEN score1 > score2\n",
    "       then 1 END) as Home_Win,\n",
    "    count(CASE WHEN score1 < score2\n",
    "       then 1 END) as Home_Loss,\n",
    "    count(CASE WHEN score1 == score2 \n",
    "       then 1 END) as Tie\n",
    "FROM epl_table\"\"\", con)\n",
    "labels = df.loc[0].index\n",
    "values = df.loc[0].values\n",
    "fig, ax = plt.subplots()\n",
    "for i, v in enumerate(values):\n",
    "    ax.text(v + 3, i, str(v), color='blue', fontweight='bold')\n",
    "plt.barh(labels, values)"
   ]
  },
  {
   "cell_type": "markdown",
   "metadata": {},
   "source": [
    "So much for those who say soccer always ends in a boring tie as 77.7% of the matches have a winning team. The home team also wins at a rate of 47.46% which would seem to indicate that a home field advantage exists.\n",
    "\n",
    "Next- SQL query to bring back data for the scores and xg of each game. Query sorts each game into category to see if xg correctly matched the actual outcome.\n",
    "\n",
    "Correct win, loss, and tie - means xg was right in the outcome. **Since xg would almost never be exactly equal to predict a tie a difference of .5 xg between the teams would qualify as an xg tie**\n",
    "\n",
    "Incorrect means that xg did not correctly match the outcome of the actual game based on the same parameters.\n",
    "\n",
    "Below is a short look at how the data is returned. Then below that the count of each game and whether xg correctly matched the result. It then takes those counts and presents them in a horizontal bar graph."
   ]
  },
  {
   "cell_type": "code",
   "execution_count": 7,
   "metadata": {},
   "outputs": [
    {
     "data": {
      "text/html": [
       "<div>\n",
       "<style scoped>\n",
       "    .dataframe tbody tr th:only-of-type {\n",
       "        vertical-align: middle;\n",
       "    }\n",
       "\n",
       "    .dataframe tbody tr th {\n",
       "        vertical-align: top;\n",
       "    }\n",
       "\n",
       "    .dataframe thead th {\n",
       "        text-align: right;\n",
       "    }\n",
       "</style>\n",
       "<table border=\"1\" class=\"dataframe\">\n",
       "  <thead>\n",
       "    <tr style=\"text-align: right;\">\n",
       "      <th></th>\n",
       "      <th>score1</th>\n",
       "      <th>score2</th>\n",
       "      <th>xg1</th>\n",
       "      <th>xg2</th>\n",
       "      <th>category</th>\n",
       "    </tr>\n",
       "  </thead>\n",
       "  <tbody>\n",
       "    <tr>\n",
       "      <th>0</th>\n",
       "      <td>2.0</td>\n",
       "      <td>1.0</td>\n",
       "      <td>0.85</td>\n",
       "      <td>2.77</td>\n",
       "      <td>incorrect home win</td>\n",
       "    </tr>\n",
       "    <tr>\n",
       "      <th>1</th>\n",
       "      <td>1.0</td>\n",
       "      <td>1.0</td>\n",
       "      <td>0.73</td>\n",
       "      <td>1.11</td>\n",
       "      <td>correct tie</td>\n",
       "    </tr>\n",
       "    <tr>\n",
       "      <th>2</th>\n",
       "      <td>0.0</td>\n",
       "      <td>1.0</td>\n",
       "      <td>1.24</td>\n",
       "      <td>1.84</td>\n",
       "      <td>correct home loss</td>\n",
       "    </tr>\n",
       "    <tr>\n",
       "      <th>3</th>\n",
       "      <td>0.0</td>\n",
       "      <td>1.0</td>\n",
       "      <td>1.11</td>\n",
       "      <td>0.68</td>\n",
       "      <td>incorrect home loss</td>\n",
       "    </tr>\n",
       "    <tr>\n",
       "      <th>4</th>\n",
       "      <td>1.0</td>\n",
       "      <td>1.0</td>\n",
       "      <td>1.40</td>\n",
       "      <td>0.55</td>\n",
       "      <td>incorrect tie</td>\n",
       "    </tr>\n",
       "  </tbody>\n",
       "</table>\n",
       "</div>"
      ],
      "text/plain": [
       "   score1  score2   xg1   xg2             category\n",
       "0     2.0     1.0  0.85  2.77   incorrect home win\n",
       "1     1.0     1.0  0.73  1.11          correct tie\n",
       "2     0.0     1.0  1.24  1.84    correct home loss\n",
       "3     0.0     1.0  1.11  0.68  incorrect home loss\n",
       "4     1.0     1.0  1.40  0.55        incorrect tie"
      ]
     },
     "execution_count": 7,
     "metadata": {},
     "output_type": "execute_result"
    }
   ],
   "source": [
    "df = pd.read_sql_query(\"\"\"\n",
    "SELECT score1, score2, xg1, xg2,\n",
    "   CASE\n",
    "    WHEN score1 > score2 and xg1 > (xg2 + .5) then\n",
    "        'correct home win'\n",
    "    WHEN score1 < score2 and (xg1 + .5) < xg2 then\n",
    "        'correct home loss'\n",
    "    WHEN score1 == score2 and abs(xg1 - xg2) <= .5 then\n",
    "        'correct tie'\n",
    "    WHEN score1 > score2 and xg1 < (xg2 + .5) then\n",
    "        'incorrect home win'\n",
    "    WHEN score1 < score2 and (xg1 + .5) > xg2 then\n",
    "        'incorrect home loss'\n",
    "    ELSE\n",
    "        'incorrect tie' \n",
    "    END category\n",
    "FROM epl_table\"\"\", con)\n",
    "df.head()"
   ]
  },
  {
   "cell_type": "code",
   "execution_count": 8,
   "metadata": {},
   "outputs": [
    {
     "data": {
      "text/plain": [
       "<BarContainer object of 6 artists>"
      ]
     },
     "execution_count": 8,
     "metadata": {},
     "output_type": "execute_result"
    },
    {
     "data": {
      "image/png": "[encoded data removed]",
      "text/plain": [
       "<Figure size 432x288 with 1 Axes>"
      ]
     },
     "metadata": {
      "needs_background": "light"
     },
     "output_type": "display_data"
    }
   ],
   "source": [
    "df = pd.read_sql_query(\"\"\"\n",
    "SELECT\n",
    "    count(CASE WHEN score1 > score2 and xg1 >= (xg2 + .5) \n",
    "       then 1 END) as Correct_Home_Win,\n",
    "    count(CASE WHEN score1 < score2 and (xg1 + .5) <= xg2\n",
    "       then 1 END) as Correct_Home_Loss,\n",
    "    count(CASE WHEN score1 == score2 and abs(xg1 - xg2) <= .5\n",
    "       then 1 END) as Correct_Tie,\n",
    "    count(CASE WHEN score1 > score2 and xg1 < (xg2 + .5)\n",
    "       then 1 END) as Incorrect_Home_Win,\n",
    "    count(CASE WHEN score1 < score2 and (xg1 + .5) > xg2\n",
    "       then 1 END) as Incorrect_Home_Loss,\n",
    "    count(CASE WHEN score1 == score2 and abs(xg1 - xg2) > .5\n",
    "       then 1 END) as Incorrect_Tie\n",
    "FROM epl_table\"\"\", con)\n",
    "labels = df.loc[0].index\n",
    "total = sum(df.loc[0].values)\n",
    "values = df.loc[0].values\n",
    "fig, ax = plt.subplots()\n",
    "for i, v in enumerate(values):\n",
    "    ax.text(v + 3, i, str(v), color='blue', fontweight='bold')\n",
    "for y, p in enumerate(values):\n",
    "    ax.text(p + 40, y, str(round((p / total)*100, 2)) + '%', color='blue', fontweight='bold')\n",
    "plt.barh(labels, values)"
   ]
  },
  {
   "cell_type": "code",
   "execution_count": null,
   "metadata": {},
   "outputs": [],
   "source": []
  }
 ],
 "metadata": {
  "kernelspec": {
   "display_name": "Python 3",
   "language": "python",
   "name": "python3"
  },
  "language_info": {
   "codemirror_mode": {
    "name": "ipython",
    "version": 3
   },
   "file_extension": ".py",
   "mimetype": "text/x-python",
   "name": "python",
   "nbconvert_exporter": "python",
   "pygments_lexer": "ipython3",
   "version": "3.7.3"
  }
 },
 "nbformat": 4,
 "nbformat_minor": 2
}
