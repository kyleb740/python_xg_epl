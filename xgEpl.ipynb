{
 "cells": [
  {
   "cell_type": "markdown",
   "metadata": {},
   "source": [
    "## Python Project --- How well do expected goals (xg) match up with the outcome of games and seasons in the English Premier League?"
   ]
  },
  {
   "cell_type": "markdown",
   "metadata": {},
   "source": [
    "The goal of this project is to analyze whether expected goals (xg) matches the results of an individual game or on a larger scale a season.  All result and figures are from 3 seasons of the English Premier League (EPL).\n",
    "\n",
    "Libraries used in this project."
   ]
  },
  {
   "cell_type": "code",
   "execution_count": 1,
   "metadata": {},
   "outputs": [],
   "source": [
    "import sqlite3\n",
    "import pandas as pd\n",
    "import numpy as np\n",
    "import matplotlib.pyplot as plt\n",
    "import seaborn as sns"
   ]
  },
  {
   "cell_type": "markdown",
   "metadata": {},
   "source": [
    "Code used to read csv file and create data frame for the project.\n",
    "Excludes data in the csv file that will not be used in the project. Gives example of how data is currently structured."
   ]
  },
  {
   "cell_type": "code",
   "execution_count": 2,
   "metadata": {},
   "outputs": [
    {
     "data": {
      "text/html": [
       "<div>\n",
       "<style scoped>\n",
       "    .dataframe tbody tr th:only-of-type {\n",
       "        vertical-align: middle;\n",
       "    }\n",
       "\n",
       "    .dataframe tbody tr th {\n",
       "        vertical-align: top;\n",
       "    }\n",
       "\n",
       "    .dataframe thead th {\n",
       "        text-align: right;\n",
       "    }\n",
       "</style>\n",
       "<table border=\"1\" class=\"dataframe\">\n",
       "  <thead>\n",
       "    <tr style=\"text-align: right;\">\n",
       "      <th></th>\n",
       "      <th>date</th>\n",
       "      <th>team1</th>\n",
       "      <th>team2</th>\n",
       "      <th>score1</th>\n",
       "      <th>score2</th>\n",
       "      <th>xg1</th>\n",
       "      <th>xg2</th>\n",
       "      <th>league</th>\n",
       "    </tr>\n",
       "  </thead>\n",
       "  <tbody>\n",
       "    <tr>\n",
       "      <th>2</th>\n",
       "      <td>2016-08-13</td>\n",
       "      <td>Hull City</td>\n",
       "      <td>Leicester City</td>\n",
       "      <td>2.0</td>\n",
       "      <td>1.0</td>\n",
       "      <td>0.85</td>\n",
       "      <td>2.77</td>\n",
       "      <td>Barclays Premier League</td>\n",
       "    </tr>\n",
       "    <tr>\n",
       "      <th>3</th>\n",
       "      <td>2016-08-13</td>\n",
       "      <td>Everton</td>\n",
       "      <td>Tottenham Hotspur</td>\n",
       "      <td>1.0</td>\n",
       "      <td>1.0</td>\n",
       "      <td>0.73</td>\n",
       "      <td>1.11</td>\n",
       "      <td>Barclays Premier League</td>\n",
       "    </tr>\n",
       "    <tr>\n",
       "      <th>4</th>\n",
       "      <td>2016-08-13</td>\n",
       "      <td>Burnley</td>\n",
       "      <td>Swansea City</td>\n",
       "      <td>0.0</td>\n",
       "      <td>1.0</td>\n",
       "      <td>1.24</td>\n",
       "      <td>1.84</td>\n",
       "      <td>Barclays Premier League</td>\n",
       "    </tr>\n",
       "    <tr>\n",
       "      <th>5</th>\n",
       "      <td>2016-08-13</td>\n",
       "      <td>Crystal Palace</td>\n",
       "      <td>West Bromwich Albion</td>\n",
       "      <td>0.0</td>\n",
       "      <td>1.0</td>\n",
       "      <td>1.11</td>\n",
       "      <td>0.68</td>\n",
       "      <td>Barclays Premier League</td>\n",
       "    </tr>\n",
       "    <tr>\n",
       "      <th>6</th>\n",
       "      <td>2016-08-13</td>\n",
       "      <td>Middlesbrough</td>\n",
       "      <td>Stoke City</td>\n",
       "      <td>1.0</td>\n",
       "      <td>1.0</td>\n",
       "      <td>1.40</td>\n",
       "      <td>0.55</td>\n",
       "      <td>Barclays Premier League</td>\n",
       "    </tr>\n",
       "  </tbody>\n",
       "</table>\n",
       "</div>"
      ],
      "text/plain": [
       "         date           team1                 team2  score1  score2   xg1  \\\n",
       "2  2016-08-13       Hull City        Leicester City     2.0     1.0  0.85   \n",
       "3  2016-08-13         Everton     Tottenham Hotspur     1.0     1.0  0.73   \n",
       "4  2016-08-13         Burnley          Swansea City     0.0     1.0  1.24   \n",
       "5  2016-08-13  Crystal Palace  West Bromwich Albion     0.0     1.0  1.11   \n",
       "6  2016-08-13   Middlesbrough            Stoke City     1.0     1.0  1.40   \n",
       "\n",
       "    xg2                   league  \n",
       "2  2.77  Barclays Premier League  \n",
       "3  1.11  Barclays Premier League  \n",
       "4  1.84  Barclays Premier League  \n",
       "5  0.68  Barclays Premier League  \n",
       "6  0.55  Barclays Premier League  "
      ]
     },
     "execution_count": 2,
     "metadata": {},
     "output_type": "execute_result"
    }
   ],
   "source": [
    "df = pd.read_csv('spi_matches.csv')\n",
    "df = df[df.league == \"Barclays Premier League\"]\n",
    "df.head() [['date', 'team1', 'team2', 'score1', 'score2', 'xg1', 'xg2', 'league']]"
   ]
  },
  {
   "cell_type": "markdown",
   "metadata": {},
   "source": [
    "Creating the database for the EPL (English Premier League) table"
   ]
  },
  {
   "cell_type": "code",
   "execution_count": 3,
   "metadata": {},
   "outputs": [],
   "source": [
    "df.to_sql(\"epl_table\", sqlite3.connect(\"epl.db\"), if_exists = \"replace\")"
   ]
  },
  {
   "cell_type": "markdown",
   "metadata": {},
   "source": [
    "Connecting to the database and querying back the information with SQL"
   ]
  },
  {
   "cell_type": "code",
   "execution_count": 4,
   "metadata": {},
   "outputs": [
    {
     "data": {
      "text/html": [
       "<div>\n",
       "<style scoped>\n",
       "    .dataframe tbody tr th:only-of-type {\n",
       "        vertical-align: middle;\n",
       "    }\n",
       "\n",
       "    .dataframe tbody tr th {\n",
       "        vertical-align: top;\n",
       "    }\n",
       "\n",
       "    .dataframe thead th {\n",
       "        text-align: right;\n",
       "    }\n",
       "</style>\n",
       "<table border=\"1\" class=\"dataframe\">\n",
       "  <thead>\n",
       "    <tr style=\"text-align: right;\">\n",
       "      <th></th>\n",
       "      <th>date</th>\n",
       "      <th>team1</th>\n",
       "      <th>team2</th>\n",
       "      <th>score1</th>\n",
       "      <th>score2</th>\n",
       "      <th>xg1</th>\n",
       "      <th>xg2</th>\n",
       "    </tr>\n",
       "  </thead>\n",
       "  <tbody>\n",
       "    <tr>\n",
       "      <th>0</th>\n",
       "      <td>2016-08-13</td>\n",
       "      <td>Hull City</td>\n",
       "      <td>Leicester City</td>\n",
       "      <td>2.0</td>\n",
       "      <td>1.0</td>\n",
       "      <td>0.85</td>\n",
       "      <td>2.77</td>\n",
       "    </tr>\n",
       "    <tr>\n",
       "      <th>1</th>\n",
       "      <td>2016-08-13</td>\n",
       "      <td>Everton</td>\n",
       "      <td>Tottenham Hotspur</td>\n",
       "      <td>1.0</td>\n",
       "      <td>1.0</td>\n",
       "      <td>0.73</td>\n",
       "      <td>1.11</td>\n",
       "    </tr>\n",
       "    <tr>\n",
       "      <th>2</th>\n",
       "      <td>2016-08-13</td>\n",
       "      <td>Burnley</td>\n",
       "      <td>Swansea City</td>\n",
       "      <td>0.0</td>\n",
       "      <td>1.0</td>\n",
       "      <td>1.24</td>\n",
       "      <td>1.84</td>\n",
       "    </tr>\n",
       "    <tr>\n",
       "      <th>3</th>\n",
       "      <td>2016-08-13</td>\n",
       "      <td>Crystal Palace</td>\n",
       "      <td>West Bromwich Albion</td>\n",
       "      <td>0.0</td>\n",
       "      <td>1.0</td>\n",
       "      <td>1.11</td>\n",
       "      <td>0.68</td>\n",
       "    </tr>\n",
       "    <tr>\n",
       "      <th>4</th>\n",
       "      <td>2016-08-13</td>\n",
       "      <td>Middlesbrough</td>\n",
       "      <td>Stoke City</td>\n",
       "      <td>1.0</td>\n",
       "      <td>1.0</td>\n",
       "      <td>1.40</td>\n",
       "      <td>0.55</td>\n",
       "    </tr>\n",
       "  </tbody>\n",
       "</table>\n",
       "</div>"
      ],
      "text/plain": [
       "         date           team1                 team2  score1  score2   xg1  \\\n",
       "0  2016-08-13       Hull City        Leicester City     2.0     1.0  0.85   \n",
       "1  2016-08-13         Everton     Tottenham Hotspur     1.0     1.0  0.73   \n",
       "2  2016-08-13         Burnley          Swansea City     0.0     1.0  1.24   \n",
       "3  2016-08-13  Crystal Palace  West Bromwich Albion     0.0     1.0  1.11   \n",
       "4  2016-08-13   Middlesbrough            Stoke City     1.0     1.0  1.40   \n",
       "\n",
       "    xg2  \n",
       "0  2.77  \n",
       "1  1.11  \n",
       "2  1.84  \n",
       "3  0.68  \n",
       "4  0.55  "
      ]
     },
     "execution_count": 4,
     "metadata": {},
     "output_type": "execute_result"
    }
   ],
   "source": [
    "con = sqlite3.connect(\"epl.db\")\n",
    "df = pd.read_sql_query(\"SELECT date, team1, team2, score1, score2, xg1, xg2 FROM epl_table\", con)\n",
    "df.head()"
   ]
  },
  {
   "cell_type": "markdown",
   "metadata": {},
   "source": [
    "#### Examining how xg does at matching the outcome of each game.\n",
    "\n",
    "First a query to examine the amount of wins, draws, and ties in our data set. A win is when score1 > score2 (a home team win), a loss is when score1 < score2 (an away team win) and a tie when score1 and score2 are equal."
   ]
  },
  {
   "cell_type": "code",
   "execution_count": 5,
   "metadata": {},
   "outputs": [
    {
     "data": {
      "text/plain": [
       "<BarContainer object of 3 artists>"
      ]
     },
     "execution_count": 5,
     "metadata": {},
     "output_type": "execute_result"
    },
    {
     "data": {
      "image/png": "[encoded data removed]",
      "text/plain": [
       "<Figure size 432x288 with 1 Axes>"
      ]
     },
     "metadata": {
      "needs_background": "light"
     },
     "output_type": "display_data"
    }
   ],
   "source": [
    "outcome = pd.read_sql_query(\"\"\"\n",
    "SELECT\n",
    "    count(CASE WHEN score1 > score2\n",
    "       then 1 END) as Home_Win,\n",
    "    count(CASE WHEN score1 < score2\n",
    "       then 1 END) as Home_Loss,\n",
    "    count(CASE WHEN score1 == score2 \n",
    "       then 1 END) as Tie\n",
    "FROM epl_table\"\"\", con)\n",
    "labels = outcome.loc[0].index\n",
    "values = outcome.loc[0].values\n",
    "fig, ax = plt.subplots()\n",
    "for i, v in enumerate(values):\n",
    "    ax.text(v + 3, i, str(v), color='blue', fontweight='bold')\n",
    "plt.barh(labels, values)"
   ]
  },
  {
   "cell_type": "markdown",
   "metadata": {},
   "source": [
    "So much for those who say soccer always ends in a boring tie as 77.7% of the matches have a winning team. The home team also wins at a rate of 47.46% which would seem to indicate that a home field advantage exists.\n",
    "\n",
    "Next- SQL query to bring back data for the scores and xg of each game. Query sorts each game into category to see if xg correctly matched the actual outcome.\n",
    "\n",
    "Correct win, loss, and tie - means xg was right in the outcome. **Since xg would almost never be exactly equal to predict a tie a difference of .5 xg between the teams would qualify as an xg tie**\n",
    "\n",
    "Incorrect means that xg did not correctly match the outcome of the actual game based on the same parameters.\n",
    "\n",
    "Below is a short look at how the data is returned. Then below that the count of each game and whether xg correctly matched the result. It then takes those counts and presents them in a horizontal bar graph."
   ]
  },
  {
   "cell_type": "code",
   "execution_count": 6,
   "metadata": {},
   "outputs": [
    {
     "data": {
      "text/html": [
       "<div>\n",
       "<style scoped>\n",
       "    .dataframe tbody tr th:only-of-type {\n",
       "        vertical-align: middle;\n",
       "    }\n",
       "\n",
       "    .dataframe tbody tr th {\n",
       "        vertical-align: top;\n",
       "    }\n",
       "\n",
       "    .dataframe thead th {\n",
       "        text-align: right;\n",
       "    }\n",
       "</style>\n",
       "<table border=\"1\" class=\"dataframe\">\n",
       "  <thead>\n",
       "    <tr style=\"text-align: right;\">\n",
       "      <th></th>\n",
       "      <th>score1</th>\n",
       "      <th>score2</th>\n",
       "      <th>xg1</th>\n",
       "      <th>xg2</th>\n",
       "      <th>category</th>\n",
       "    </tr>\n",
       "  </thead>\n",
       "  <tbody>\n",
       "    <tr>\n",
       "      <th>0</th>\n",
       "      <td>2.0</td>\n",
       "      <td>1.0</td>\n",
       "      <td>0.85</td>\n",
       "      <td>2.77</td>\n",
       "      <td>incorrect home win</td>\n",
       "    </tr>\n",
       "    <tr>\n",
       "      <th>1</th>\n",
       "      <td>1.0</td>\n",
       "      <td>1.0</td>\n",
       "      <td>0.73</td>\n",
       "      <td>1.11</td>\n",
       "      <td>correct tie</td>\n",
       "    </tr>\n",
       "    <tr>\n",
       "      <th>2</th>\n",
       "      <td>0.0</td>\n",
       "      <td>1.0</td>\n",
       "      <td>1.24</td>\n",
       "      <td>1.84</td>\n",
       "      <td>correct home loss</td>\n",
       "    </tr>\n",
       "    <tr>\n",
       "      <th>3</th>\n",
       "      <td>0.0</td>\n",
       "      <td>1.0</td>\n",
       "      <td>1.11</td>\n",
       "      <td>0.68</td>\n",
       "      <td>incorrect home loss</td>\n",
       "    </tr>\n",
       "    <tr>\n",
       "      <th>4</th>\n",
       "      <td>1.0</td>\n",
       "      <td>1.0</td>\n",
       "      <td>1.40</td>\n",
       "      <td>0.55</td>\n",
       "      <td>incorrect tie</td>\n",
       "    </tr>\n",
       "  </tbody>\n",
       "</table>\n",
       "</div>"
      ],
      "text/plain": [
       "   score1  score2   xg1   xg2             category\n",
       "0     2.0     1.0  0.85  2.77   incorrect home win\n",
       "1     1.0     1.0  0.73  1.11          correct tie\n",
       "2     0.0     1.0  1.24  1.84    correct home loss\n",
       "3     0.0     1.0  1.11  0.68  incorrect home loss\n",
       "4     1.0     1.0  1.40  0.55        incorrect tie"
      ]
     },
     "execution_count": 6,
     "metadata": {},
     "output_type": "execute_result"
    }
   ],
   "source": [
    "xg_outcome = pd.read_sql_query(\"\"\"\n",
    "SELECT score1, score2, xg1, xg2,\n",
    "   CASE\n",
    "    WHEN score1 > score2 and xg1 > (xg2 + .5) then\n",
    "        'correct home win'\n",
    "    WHEN score1 < score2 and (xg1 + .5) < xg2 then\n",
    "        'correct home loss'\n",
    "    WHEN score1 == score2 and abs(xg1 - xg2) <= .5 then\n",
    "        'correct tie'\n",
    "    WHEN score1 > score2 and xg1 < (xg2 + .5) then\n",
    "        'incorrect home win'\n",
    "    WHEN score1 < score2 and (xg1 + .5) > xg2 then\n",
    "        'incorrect home loss'\n",
    "    ELSE\n",
    "        'incorrect tie' \n",
    "    END category\n",
    "FROM epl_table\"\"\", con)\n",
    "xg_outcome.head()"
   ]
  },
  {
   "cell_type": "code",
   "execution_count": 7,
   "metadata": {},
   "outputs": [
    {
     "data": {
      "text/plain": [
       "<BarContainer object of 6 artists>"
      ]
     },
     "execution_count": 7,
     "metadata": {},
     "output_type": "execute_result"
    },
    {
     "data": {
      "image/png": "[encoded data removed]",
      "text/plain": [
       "<Figure size 432x288 with 1 Axes>"
      ]
     },
     "metadata": {
      "needs_background": "light"
     },
     "output_type": "display_data"
    }
   ],
   "source": [
    "xg_outcome_count = pd.read_sql_query(\"\"\"\n",
    "SELECT\n",
    "    count(CASE WHEN score1 > score2 and xg1 >= (xg2 + .5) \n",
    "       then 1 END) as Correct_Home_Win,\n",
    "    count(CASE WHEN score1 < score2 and (xg1 + .5) <= xg2\n",
    "       then 1 END) as Correct_Home_Loss,\n",
    "    count(CASE WHEN score1 == score2 and abs(xg1 - xg2) <= .5\n",
    "       then 1 END) as Correct_Tie,\n",
    "    count(CASE WHEN score1 > score2 and xg1 < (xg2 + .5)\n",
    "       then 1 END) as Incorrect_Home_Win,\n",
    "    count(CASE WHEN score1 < score2 and (xg1 + .5) > xg2\n",
    "       then 1 END) as Incorrect_Home_Loss,\n",
    "    count(CASE WHEN score1 == score2 and abs(xg1 - xg2) > .5\n",
    "       then 1 END) as Incorrect_Tie\n",
    "FROM epl_table\"\"\", con)\n",
    "labels = xg_outcome_count.loc[0].index\n",
    "total = sum(xg_outcome_count.loc[0].values)\n",
    "values = xg_outcome_count.loc[0].values\n",
    "fig, ax = plt.subplots()\n",
    "for i, v in enumerate(values):\n",
    "    ax.text(v + 3, i, str(v), color='blue', fontweight='bold')\n",
    "for y, p in enumerate(values):\n",
    "    ax.text(p + 40, y, str(round((p / total)*100, 2)) + '%', color='blue', fontweight='bold')\n",
    "plt.barh(labels, values)"
   ]
  },
  {
   "cell_type": "markdown",
   "metadata": {},
   "source": [
    "By these metrics xg matches the correct result of the game 57.63% of the time. When the home team wins a game (541 games/48% of the data set) xg matches the outcome correctly 66.5% of the time. \n",
    "When the home team loses a game (345 games/30% of the data set) xg matches the outcome correctly 59.4% of the time. When the outcome is a tie (254 games/22% of the data set) xg matches the outcome correctly 36% of the time.\n",
    "\n",
    "Now we will look at the actual data a little more in depth since we have a base level understanding of how the xg results match up with the actual results."
   ]
  },
  {
   "cell_type": "code",
   "execution_count": 8,
   "metadata": {},
   "outputs": [
    {
     "data": {
      "text/html": [
       "<div>\n",
       "<style scoped>\n",
       "    .dataframe tbody tr th:only-of-type {\n",
       "        vertical-align: middle;\n",
       "    }\n",
       "\n",
       "    .dataframe tbody tr th {\n",
       "        vertical-align: top;\n",
       "    }\n",
       "\n",
       "    .dataframe thead th {\n",
       "        text-align: right;\n",
       "    }\n",
       "</style>\n",
       "<table border=\"1\" class=\"dataframe\">\n",
       "  <thead>\n",
       "    <tr style=\"text-align: right;\">\n",
       "      <th></th>\n",
       "      <th>avg(score1)</th>\n",
       "      <th>avg(score2)</th>\n",
       "      <th>avg(xg1)</th>\n",
       "      <th>avg(xg2)</th>\n",
       "    </tr>\n",
       "  </thead>\n",
       "  <tbody>\n",
       "    <tr>\n",
       "      <th>0</th>\n",
       "      <td>1.565789</td>\n",
       "      <td>1.200877</td>\n",
       "      <td>1.554132</td>\n",
       "      <td>1.214456</td>\n",
       "    </tr>\n",
       "  </tbody>\n",
       "</table>\n",
       "</div>"
      ],
      "text/plain": [
       "   avg(score1)  avg(score2)  avg(xg1)  avg(xg2)\n",
       "0     1.565789     1.200877  1.554132  1.214456"
      ]
     },
     "execution_count": 8,
     "metadata": {},
     "output_type": "execute_result"
    }
   ],
   "source": [
    "average = pd.read_sql_query(\"SELECT avg(score1), avg(score2), avg(xg1), avg(xg2) FROM epl_table\", con)\n",
    "average"
   ]
  },
  {
   "cell_type": "markdown",
   "metadata": {},
   "source": [
    "The df above above shows on average the home team scores around .3 more than the away team regardless of the teams involved. Since each EPL season consists of each team playing the others twice (home and away) this would seem to indicate that a home field advantage does exist within the English Premier League.\n",
    "\n",
    "Another interesting insight is that the score and xg data are extremely accurate over the course of the 3 seasons in this data set.\n",
    "\n",
    "Now we will plot our data points with the darker dots representing results that appear more often."
   ]
  },
  {
   "cell_type": "code",
   "execution_count": 9,
   "metadata": {},
   "outputs": [
    {
     "data": {
      "image/png": "[encoded data removed]",
      "text/plain": [
       "<Figure size 432x288 with 1 Axes>"
      ]
     },
     "metadata": {
      "needs_background": "light"
     },
     "output_type": "display_data"
    }
   ],
   "source": [
    "scatter_actual = pd.read_sql_query(\"SELECT score1, score2 FROM epl_table\", con)\n",
    "\n",
    "h_score = scatter_actual['score1']\n",
    "a_score = scatter_actual['score2']\n",
    "\n",
    "plt.scatter(h_score, a_score, alpha=0.1)\n",
    "plt.title('Scatter plot Actual Scores')\n",
    "plt.xlabel('Home Score')\n",
    "plt.ylabel('Away Score')\n",
    "plt.show()"
   ]
  },
  {
   "cell_type": "code",
   "execution_count": 10,
   "metadata": {},
   "outputs": [
    {
     "data": {
      "image/png": "[encoded data removed]",
      "text/plain": [
       "<Figure size 432x288 with 1 Axes>"
      ]
     },
     "metadata": {
      "needs_background": "light"
     },
     "output_type": "display_data"
    }
   ],
   "source": [
    "scatter_xg = pd.read_sql_query(\"SELECT xg1, xg2 FROM epl_table\", con)\n",
    "\n",
    "hx_score = scatter_xg['xg1']\n",
    "ax_score = scatter_xg['xg2']\n",
    "\n",
    "plt.scatter(hx_score, ax_score, alpha=0.5)\n",
    "plt.title('Scatter plot XG Scores')\n",
    "plt.xlabel('Home Score')\n",
    "plt.ylabel('Away Score')\n",
    "plt.show()"
   ]
  },
  {
   "cell_type": "markdown",
   "metadata": {},
   "source": [
    "From the scatter plots there isn't a lot of difference in the overall shape of each graph. Both have most results ranging on the lower end of the spectrum of goals scored (1 or 2 ususally). The difference in the plots is more at the edges. "
   ]
  },
  {
   "cell_type": "code",
   "execution_count": 11,
   "metadata": {},
   "outputs": [
    {
     "data": {
      "text/html": [
       "<div>\n",
       "<style scoped>\n",
       "    .dataframe tbody tr th:only-of-type {\n",
       "        vertical-align: middle;\n",
       "    }\n",
       "\n",
       "    .dataframe tbody tr th {\n",
       "        vertical-align: top;\n",
       "    }\n",
       "\n",
       "    .dataframe thead th {\n",
       "        text-align: right;\n",
       "    }\n",
       "</style>\n",
       "<table border=\"1\" class=\"dataframe\">\n",
       "  <thead>\n",
       "    <tr style=\"text-align: right;\">\n",
       "      <th></th>\n",
       "      <th>Boring_Tie</th>\n",
       "      <th>Boring_XG_Tie</th>\n",
       "      <th>Wow_Goals</th>\n",
       "      <th>Wow_XG_Goals</th>\n",
       "    </tr>\n",
       "  </thead>\n",
       "  <tbody>\n",
       "    <tr>\n",
       "      <th>0</th>\n",
       "      <td>81</td>\n",
       "      <td>7</td>\n",
       "      <td>49</td>\n",
       "      <td>3</td>\n",
       "    </tr>\n",
       "  </tbody>\n",
       "</table>\n",
       "</div>"
      ],
      "text/plain": [
       "   Boring_Tie  Boring_XG_Tie  Wow_Goals  Wow_XG_Goals\n",
       "0          81              7         49             3"
      ]
     },
     "execution_count": 11,
     "metadata": {},
     "output_type": "execute_result"
    }
   ],
   "source": [
    "outer_edge_cases = pd.read_sql_query(\"\"\"\n",
    "SELECT\n",
    "    count(CASE WHEN score1 == 0 and score2 == 0 \n",
    "       then 1 END) as Boring_Tie,\n",
    "    count(CASE WHEN xg1 <= 0.5 and xg2 <= 0.5 \n",
    "       then 1 END) as Boring_XG_Tie,\n",
    "    count(CASE WHEN score1 >= 5 or score2 >= 5\n",
    "       then 1 END) as Wow_Goals,\n",
    "    count(CASE WHEN xg1 >= 5 or xg2 >= 5\n",
    "       then 1 END) as Wow_XG_Goals  \n",
    "    FROM epl_table\"\"\", con)\n",
    "outer_edge_cases"
   ]
  },
  {
   "cell_type": "markdown",
   "metadata": {},
   "source": [
    "This takes a look at the outer edges of the results. The xg map is sparse at stating a result should have been a 0-0 draw (only 7 times) while it is a somewhat common outcome in the actual score (81 times or 7% of the data set). Again the actual scores show cases of a team scoring over 5 goals 49 times while xg only thought that would happen 3 times based on the chances of the game. I don't think one can call these 2 cases of actual outcomes outliers either as the comprise 11.4% of the total data set. XG only shows this happening in its metric 0.8%.\n",
    "\n",
    "Now we will try to take a closer look at how XG matches up with a whole season's results.  This next section queries only the teams involved in the 2018-2019 season.  It then passes these teams into a for loop to determine how the actual points accured (win is worth 3 pts, tie is worth 1 pt, loss is worth 0 pts) match up with the xg pts accured.  "
   ]
  },
  {
   "cell_type": "code",
   "execution_count": 15,
   "metadata": {},
   "outputs": [
    {
     "name": "stdout",
     "output_type": "stream",
     "text": [
      "Manchester United 66 61 5\n",
      "Newcastle 45 31 14\n",
      "AFC Bournemouth 45 47 -2\n",
      "Huddersfield Town 16 21 -5\n",
      "Watford 50 46 4\n",
      "Fulham 26 26 0\n",
      "Wolverhampton 57 61 -4\n",
      "Liverpool 97 92 5\n",
      "Southampton 39 39 0\n",
      "Arsenal 70 60 10\n",
      "Cardiff City 34 30 4\n",
      "Everton 54 55 -1\n",
      "Tottenham Hotspur 71 68 3\n",
      "West Ham United 52 41 11\n",
      "Leicester City 52 55 -3\n",
      "Chelsea 72 85 -13\n",
      "Manchester City 98 99 -1\n",
      "Burnley 40 37 3\n",
      "Brighton and Hove Albion 36 32 4\n",
      "Crystal Palace 49 47 2\n"
     ]
    }
   ],
   "source": [
    "teamsUnique = pd.read_sql_query(\"\"\"\n",
    "    SELECT DISTINCT team1 FROM epl_table WHERE date BETWEEN '2018-08-01' AND '2019-06-01'\"\"\", con)\n",
    "teamsList = teamsUnique.iloc[:,0].tolist()\n",
    "def seasonComp(list):\n",
    "    for i in list:\n",
    "         query1 = pd.read_sql_query(\"\"\"\n",
    "            SELECT \n",
    "                count(CASE WHEN score1 == score2 \n",
    "                    then 1 END) as Tie,\n",
    "                count(CASE WHEN score1 > score2\n",
    "                    then 1 END)*3 as Win\n",
    "                FROM epl_table WHERE team1='{}' and date BETWEEN '2018-08-01' AND '2019-06-01'\n",
    "                \"\"\".format(i), con)\n",
    "         query2 = pd.read_sql_query(\"\"\"\n",
    "            SELECT \n",
    "                count(CASE WHEN score1 == score2 \n",
    "                    then 1 END) as Tie,\n",
    "                count(CASE WHEN score1 < score2\n",
    "                    then 1 END)*3 as Win\n",
    "                FROM epl_table WHERE team2='{}' and date BETWEEN '2018-08-01' AND '2019-06-01'\n",
    "                \"\"\".format(i), con)\n",
    "         queryxg1 = pd.read_sql_query(\"\"\"\n",
    "            SELECT \n",
    "                count(CASE WHEN abs(xg1 - xg2) <= .5 \n",
    "                    then 1 END) as Tie, \n",
    "                count(CASE WHEN xg1 > (xg2 + .5) \n",
    "                    then 1 END)*3 as Win \n",
    "                FROM epl_table WHERE team1='{}' and date BETWEEN '2018-08-01' AND '2019-06-01'\n",
    "                \"\"\".format(i), con)\n",
    "         queryxg2 = pd.read_sql_query(\"\"\"\n",
    "            SELECT \n",
    "                count(CASE WHEN abs(xg1 - xg2) <= .5\n",
    "                    then 1 END) as Tie,\n",
    "                count(CASE WHEN (xg1 + .5) < xg2\n",
    "                    then 1 END)*3 as Win\n",
    "                FROM epl_table WHERE team2='{}' and date BETWEEN '2018-08-01' AND '2019-06-01'\n",
    "                \"\"\".format(i), con)\n",
    "         print(i, (sum(query1.loc[0].values) + sum(query2.loc[0].values)), (sum(queryxg1.loc[0].values) + sum(queryxg2.loc[0].values)), (sum(query1.loc[0].values) + sum(query2.loc[0].values)) - (sum(queryxg1.loc[0].values) + sum(queryxg2.loc[0].values)))\n",
    "\n",
    "seasonComp(teamsList)"
   ]
  },
  {
   "cell_type": "markdown",
   "metadata": {},
   "source": [
    "It seems that XG is hit and miss on matching the final point total.  2 of the results are right on and 14 of the results are within +/- 5 pts of the final tally.  The other 4 results are well off the mark with a difference of 14, 10, 11, and -13 respectively.\n",
    "\n",
    "When we organize the data by the actual final points accumulated we see that the final table matches up well. Chelsea's xg predicted 13 more points for them but they would still have been 3rd place.  Newcastle has the largest move as the overshot their xg results by 14 finishing tied for 13th when XG had them as finishing 17th."
   ]
  },
  {
   "cell_type": "markdown",
   "metadata": {},
   "source": [
    "## In Conclusion\n",
    "From all this xg doesn't seem like a great way to match a single games' outcome considering it only matches the correct result 57% of the time.  It also doesn't pickup well on the cases at the outer edges of the scores (0-0 or 6-3) while in actuality these cases happen a decent amount of the time.\n",
    "\n",
    "However from the metrics we have explored so far xg does seem to closely follow the actual results on a whole over the course of a season.  The averages of xg and actual scores is very close over the course of the time span.  And when plotting out the data points the scatter plots are very similar.  Over the course of a season XG matches the results of the final table pretty well even if the points totals are off here and there.\n",
    "\n",
    "At the end of this analysis I believe the xg is a metric that is beneficial to analyzing a larger span of time or seasons than it is for analyzing each individual game. "
   ]
  }
 ],
 "metadata": {
  "kernelspec": {
   "display_name": "Python 3",
   "language": "python",
   "name": "python3"
  },
  "language_info": {
   "codemirror_mode": {
    "name": "ipython",
    "version": 3
   },
   "file_extension": ".py",
   "mimetype": "text/x-python",
   "name": "python",
   "nbconvert_exporter": "python",
   "pygments_lexer": "ipython3",
   "version": "3.7.3"
  }
 },
 "nbformat": 4,
 "nbformat_minor": 2
}
